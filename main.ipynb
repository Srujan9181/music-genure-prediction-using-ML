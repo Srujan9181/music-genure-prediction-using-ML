{
 "cells": [
  {
   "cell_type": "code",
   "execution_count": 8,
   "id": "79d74bfd",
   "metadata": {
    "scrolled": true
   },
   "outputs": [
    {
     "name": "stdout",
     "output_type": "stream",
     "text": [
      "['HipHop']\n"
     ]
    }
   ],
   "source": [
    "import import_ipynb\n",
    "import pandas as pd\n",
    "from sklearn.tree import DecisionTreeClassifier\n",
    "from sklearn.model_selection import train_test_split\n",
    "from sklearn.metrics import accuracy_score\n",
    "#reading dataset\n",
    "music_data=pd.read_csv('music.csv')\n",
    "X=music_data.drop(columns=['genre']) #input\n",
    "y=music_data['genre'] #output\n",
    "model=DecisionTreeClassifier()\n",
    "model.fit(X.values,y)\n",
    "predictions=model.predict([[21,1]])\n",
    "print(predictions)"
   ]
  },
  {
   "cell_type": "code",
   "execution_count": 41,
   "id": "9a031767",
   "metadata": {
    "scrolled": true
   },
   "outputs": [
    {
     "data": {
      "text/plain": [
       "100.0"
      ]
     },
     "execution_count": 41,
     "metadata": {},
     "output_type": "execute_result"
    }
   ],
   "source": [
    "import import_ipynb\n",
    "import pandas as pd\n",
    "from sklearn.tree import DecisionTreeClassifier\n",
    "from sklearn.model_selection import train_test_split\n",
    "from sklearn.metrics import accuracy_score\n",
    "#reading dataset\n",
    "music_data=pd.read_csv('music.csv')\n",
    "X=music_data.drop(columns=['genre']) #input\n",
    "y=music_data['genre'] #output\n",
    "#accuracy\n",
    "X_train,X_test,y_train,y_test=train_test_split(X,y,test_size=0.2) #test and training data classificaton\n",
    "model=DecisionTreeClassifier()\n",
    "model.fit(X_train,y_train)\n",
    "predictions=model.predict(X_test)\n",
    "score=accuracy_score(y_test,predictions)*100\n",
    "score"
   ]
  },
  {
   "cell_type": "code",
   "execution_count": 5,
   "id": "dd7be3d3",
   "metadata": {
    "scrolled": true
   },
   "outputs": [
    {
     "data": {
      "image/png": "[encoded data removed]",
      "text/plain": [
       "<Figure size 432x288 with 1 Axes>"
      ]
     },
     "metadata": {
      "needs_background": "light"
     },
     "output_type": "display_data"
    }
   ],
   "source": [
    "import import_ipynb\n",
    "import pandas as pd\n",
    "from sklearn.tree import DecisionTreeClassifier\n",
    "from sklearn.model_selection import train_test_split\n",
    "from sklearn.metrics import accuracy_score\n",
    "from sklearn import tree\n",
    "#reading dataset\n",
    "music_data=pd.read_csv('music.csv')\n",
    "X=music_data.drop(columns=['genre']) #input\n",
    "y=music_data['genre'] #output\n",
    "#accuracy\n",
    "X_train,X_test,y_train,y_test=train_test_split(X,y,test_size=0.2) #test and training data classificaton\n",
    "model=DecisionTreeClassifier()\n",
    "model.fit(X_train,y_train)\n",
    "predictions=model.predict(X_test)\n",
    "score=accuracy_score(y_test,predictions)*100\n",
    "tree.plot_tree(model);"
   ]
  },
  {
   "cell_type": "code",
   "execution_count": 43,
   "id": "ebf7d8fd",
   "metadata": {},
   "outputs": [
    {
     "data": {
      "text/plain": [
       "(    age  gender\n",
       " 17   35       0\n",
       " 10   21       0\n",
       " 6    31       1\n",
       " 14   30       0\n",
       " 16   34       0\n",
       " 5    30       1\n",
       " 13   27       0\n",
       " 11   25       0\n",
       " 15   31       0\n",
       " 7    33       1\n",
       " 8    37       1\n",
       " 0    20       1\n",
       " 12   26       0\n",
       " 1    23       1,\n",
       "    age  gender\n",
       " 3   26       1\n",
       " 9   20       0\n",
       " 4   29       1\n",
       " 2   25       1,\n",
       " 17    Classical\n",
       " 10        Dance\n",
       " 6     Classical\n",
       " 14     Acoustic\n",
       " 16    Classical\n",
       " 5          Jazz\n",
       " 13     Acoustic\n",
       " 11        Dance\n",
       " 15    Classical\n",
       " 7     Classical\n",
       " 8     Classical\n",
       " 0        HipHop\n",
       " 12     Acoustic\n",
       " 1        HipHop\n",
       " Name: genre, dtype: object,\n",
       " 3      Jazz\n",
       " 9     Dance\n",
       " 4      Jazz\n",
       " 2    HipHop\n",
       " Name: genre, dtype: object)"
      ]
     },
     "execution_count": 43,
     "metadata": {},
     "output_type": "execute_result"
    }
   ],
   "source": [
    "import import_ipynb\n",
    "import pandas as pd\n",
    "from sklearn.tree import DecisionTreeClassifier\n",
    "from sklearn.model_selection import train_test_split\n",
    "from sklearn.metrics import accuracy_score\n",
    "from sklearn import tree\n",
    "#reading dataset\n",
    "music_data=pd.read_csv('music.csv')\n",
    "X=music_data.drop(columns=['genre']) #input\n",
    "y=music_data['genre'] #output\n",
    "#accuracy\n",
    "X_train,X_test,y_train,y_test=train_test_split(X,y,test_size=0.2) #test and training data classificaton\n",
    "model=DecisionTreeClassifier()\n",
    "model.fit(X_train,y_train)\n",
    "predictions=model.predict(X_test)\n",
    "score=accuracy_score(y_test,predictions)*100\n",
    "X_train,X_test,y_train,y_test"
   ]
  }
 ],
 "metadata": {
  "kernelspec": {
   "display_name": "Python 3 (ipykernel)",
   "language": "python",
   "name": "python3"
  },
  "language_info": {
   "codemirror_mode": {
    "name": "ipython",
    "version": 3
   },
   "file_extension": ".py",
   "mimetype": "text/x-python",
   "name": "python",
   "nbconvert_exporter": "python",
   "pygments_lexer": "ipython3",
   "version": "3.8.5"
  },
  "vscode": {
   "interpreter": {
    "hash": "03822121fd6fda9c3b64643458ea35e2210ab6ef8f7bc615fcae8351a0732f4b"
   }
  }
 },
 "nbformat": 4,
 "nbformat_minor": 5
}
